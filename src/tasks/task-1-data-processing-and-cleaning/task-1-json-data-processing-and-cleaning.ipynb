{
 "cells": [
  {
   "cell_type": "markdown",
   "id": "4faf22e1",
   "metadata": {},
   "source": [
    "## Kiambu Kenya Chatbot for Students\n",
    "### Code for Task - 1 - Data cleaning and processing\n",
    "Change the file path by pointing it to the location of your data\n"
   ]
  },
  {
   "cell_type": "code",
   "execution_count": 1,
   "id": "167df691",
   "metadata": {},
   "outputs": [],
   "source": [
    "\"\"\" Import necessary file modules\n",
    "\"\"\"\n",
    "import json #json module for reading json files\n",
    "import numpy as np #tool for creating data arrays \n",
    "import nltk #Natural languange Processing tool\n",
    "from nltk.stem.lancaster import LancasterStemmer #model for stemming words\n",
    "stemmer = LancasterStemmer()\n",
    "\n",
    "\"\"\" Read the json data and storing it in a variable named data\n",
    "\"\"\"\n",
    "with open(\"job_intents.json\") as file: #change the file path to point to the location of your file\n",
    "    data = json.load(file)\n",
    "\n",
    "\"\"\" STEP - 1: Feature Extraction from the Json file\n",
    "\"\"\"\n",
    "# First, we setup blank variable to hold the features we need.\n",
    "ChatVocab = [] # to hold tokenized unique words of sentences in patterns\n",
    "labels = [] # to hold unique tag names for encoding purposes.\n",
    "docs_X = [] # to hold tokenized list of sentence patterns \n",
    "docs_y = [] # to hold a list of labels associated with docs_X list\n",
    "\n",
    "# Second, Loop through the patterns as you tokenize the sentences\n",
    "for intent in data['intents']:\n",
    "    for pattern in intent['patterns']:\n",
    "        tokenized_words = nltk.word_tokenize(pattern)\n",
    "        ChatVocab.extend(tokenized_words) # Building a list of tokenized words\n",
    "        docs_X.append(tokenized_words)\n",
    "        docs_y.append(intent['tag'])\n",
    "    \n",
    "    # create class labels\n",
    "    if intent['tag'] not in labels:\n",
    "        labels.append(intent['tag']) # Building a list of tag names - output labels\n",
    "        \n",
    "# Third, create a list of root words using stemmer from nltk as imported\n",
    "ChatVocab = [stemmer.stem(word.lower()) for word in ChatVocab if word != \"?\"] # filter out question marks\n",
    "ChatVocabulary = sorted(list(set(ChatVocab)))\n",
    "\n",
    "\n",
    "\"\"\" STEP - 2: Data encoding using bag of words and one hot encoding\n",
    "    Treat the unique words in ChatVocabulary as columns. Stem the words in docs_X variable and represent them as rows.\n",
    "    Put a numeric number ' 1 ' where the word in row is inline with the word on column and a \" 0 \" otherwise.\n",
    "\"\"\"\n",
    "#First, setup blank variables to hold training and output data\n",
    "train_matrix_list = []\n",
    "output_matrix_list = []\n",
    "\n",
    "#second, create a list of zeros the length = labels for use in the next step\n",
    "output_empty_label = [0 for _ in range(len(labels))]\n",
    "\n",
    "# Third, loop through docs_X, stem each list, \n",
    "# Use the second for loop to build a list of length = len(ChatVocabulary)\n",
    "# use if statement to check whether the word is in stemmed word of docs_X\n",
    "for number, each_list in enumerate(docs_X):\n",
    "    bow = [] #Bag of Words\n",
    "    stemmed_words = [stemmer.stem(word.lower()) for word in each_list if word != \"?\"]\n",
    "    \n",
    "    for vocab_word in ChatVocabulary:\n",
    "        if vocab_word in stemmed_words:\n",
    "            bow.append(1)\n",
    "        else:\n",
    "            bow.append(0)\n",
    "    \n",
    "    output_column = output_empty_label[:] #make a copy of the earlier zero list\n",
    "    output_column[labels.index(docs_y[number])] = 1 # set the zero list to 1 for each value of docs_y\n",
    "    \n",
    "    train_matrix_list.append(bow) # build training matrix\n",
    "    output_matrix_list.append(output_column) # build output / predicted class\n",
    "\n",
    "#Fourth, convert the train_matrix_list and output_matrix_list into numpy arrays\n",
    "training_data = np.array(train_matrix_list)\n",
    "output_data = np.array(output_matrix_list)"
   ]
  },
  {
   "cell_type": "markdown",
   "id": "8358cd14",
   "metadata": {},
   "source": [
    "### Visualizing Training and Output data"
   ]
  },
  {
   "cell_type": "code",
   "execution_count": 2,
   "id": "7e967af1",
   "metadata": {},
   "outputs": [
    {
     "data": {
      "text/plain": [
       "(133, 101)"
      ]
     },
     "execution_count": 2,
     "metadata": {},
     "output_type": "execute_result"
    }
   ],
   "source": [
    "training_data.shape"
   ]
  },
  {
   "cell_type": "code",
   "execution_count": 3,
   "id": "c99b2523",
   "metadata": {},
   "outputs": [
    {
     "data": {
      "text/plain": [
       "(133, 15)"
      ]
     },
     "execution_count": 3,
     "metadata": {},
     "output_type": "execute_result"
    }
   ],
   "source": [
    "output_data.shape"
   ]
  },
  {
   "cell_type": "code",
   "execution_count": 4,
   "id": "029cb75f",
   "metadata": {},
   "outputs": [
    {
     "data": {
      "text/plain": [
       "array([[0, 0, 0, ..., 0, 0, 0],\n",
       "       [0, 0, 0, ..., 0, 0, 0],\n",
       "       [0, 0, 0, ..., 0, 0, 0],\n",
       "       ...,\n",
       "       [0, 0, 0, ..., 0, 0, 0],\n",
       "       [0, 0, 0, ..., 0, 0, 0],\n",
       "       [0, 0, 0, ..., 0, 0, 0]])"
      ]
     },
     "execution_count": 4,
     "metadata": {},
     "output_type": "execute_result"
    }
   ],
   "source": [
    "training_data"
   ]
  },
  {
   "cell_type": "code",
   "execution_count": 5,
   "id": "ab869e9d",
   "metadata": {},
   "outputs": [
    {
     "data": {
      "text/plain": [
       "array([[1, 0, 0, ..., 0, 0, 0],\n",
       "       [1, 0, 0, ..., 0, 0, 0],\n",
       "       [1, 0, 0, ..., 0, 0, 0],\n",
       "       ...,\n",
       "       [0, 0, 0, ..., 0, 0, 1],\n",
       "       [0, 0, 0, ..., 0, 0, 1],\n",
       "       [0, 0, 0, ..., 0, 0, 1]])"
      ]
     },
     "execution_count": 5,
     "metadata": {},
     "output_type": "execute_result"
    }
   ],
   "source": [
    "output_data"
   ]
  },
  {
   "cell_type": "code",
   "execution_count": null,
   "id": "c35126ee",
   "metadata": {},
   "outputs": [],
   "source": []
  }
 ],
 "metadata": {
  "kernelspec": {
   "display_name": "Python 3 (ipykernel)",
   "language": "python",
   "name": "python3"
  },
  "language_info": {
   "codemirror_mode": {
    "name": "ipython",
    "version": 3
   },
   "file_extension": ".py",
   "mimetype": "text/x-python",
   "name": "python",
   "nbconvert_exporter": "python",
   "pygments_lexer": "ipython3",
   "version": "3.7.4"
  }
 },
 "nbformat": 4,
 "nbformat_minor": 5
}
